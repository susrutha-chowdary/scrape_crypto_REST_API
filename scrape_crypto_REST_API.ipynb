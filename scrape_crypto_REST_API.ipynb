{
 "cells": [
  {
   "cell_type": "markdown",
   "id": "80a86a98",
   "metadata": {},
   "source": [
    "## Using a publicly available REST API to scrape some data on crypto currencies\n",
    "link to api:\n",
    "https://docs.coincap.io/#ee30bea9-bb6b-469d-958a-d3e35d442d7a "
   ]
  },
  {
   "cell_type": "code",
   "execution_count": 1,
   "id": "1d3c660d",
   "metadata": {},
   "outputs": [],
   "source": [
    "import requests"
   ]
  },
  {
   "cell_type": "code",
   "execution_count": 2,
   "id": "0131a5e2",
   "metadata": {},
   "outputs": [],
   "source": [
    "import json"
   ]
  },
  {
   "cell_type": "markdown",
   "id": "1ae0b2cd",
   "metadata": {},
   "source": [
    "### Let's explore the API's capabilities"
   ]
  },
  {
   "cell_type": "code",
   "execution_count": 3,
   "id": "f220c13d",
   "metadata": {},
   "outputs": [],
   "source": [
    "response = requests.get('http://api.coincap.io/v2/assets?')"
   ]
  },
  {
   "cell_type": "code",
   "execution_count": 4,
   "id": "6168cd20",
   "metadata": {},
   "outputs": [],
   "source": [
    "data_dict = json.loads(response.text)"
   ]
  },
  {
   "cell_type": "code",
   "execution_count": 5,
   "id": "fa4fc226",
   "metadata": {},
   "outputs": [
    {
     "data": {
      "text/plain": [
       "[{'id': 'bitcoin',\n",
       "  'rank': '1',\n",
       "  'symbol': 'BTC',\n",
       "  'name': 'Bitcoin',\n",
       "  'supply': '19104037.0000000000000000',\n",
       "  'maxSupply': '21000000.0000000000000000',\n",
       "  'marketCapUsd': '398980993671.5910482552361269',\n",
       "  'volumeUsd24Hr': '14869054539.2276559056437834',\n",
       "  'priceUsd': '20884.6430558939478737',\n",
       "  'changePercent24Hr': '-4.7370579811051995',\n",
       "  'vwap24Hr': '21310.6409979644532342',\n",
       "  'explorer': 'https://blockchain.info/'},\n",
       " {'id': 'ethereum',\n",
       "  'rank': '2',\n",
       "  'symbol': 'ETH',\n",
       "  'name': 'Ethereum',\n",
       "  'supply': '121707084.8115000000000000',\n",
       "  'maxSupply': None,\n",
       "  'marketCapUsd': '167324836677.4563370219795143',\n",
       "  'volumeUsd24Hr': '9641292076.8228867046726788',\n",
       "  'priceUsd': '1374.8159109768271604',\n",
       "  'changePercent24Hr': '-9.5960920664366165',\n",
       "  'vwap24Hr': '1454.1861077966201487',\n",
       "  'explorer': 'https://etherscan.io/'},\n",
       " {'id': 'tether',\n",
       "  'rank': '3',\n",
       "  'symbol': 'USDT',\n",
       "  'name': 'Tether',\n",
       "  'supply': '65846277709.3519440000000000',\n",
       "  'maxSupply': None,\n",
       "  'marketCapUsd': '65878471597.1013942887344712',\n",
       "  'volumeUsd24Hr': '24141427437.8634172724325397',\n",
       "  'priceUsd': '1.0004889249456371',\n",
       "  'changePercent24Hr': '-0.0249199430609013',\n",
       "  'vwap24Hr': '1.0007252284506953',\n",
       "  'explorer': 'https://www.omniexplorer.info/asset/31'},\n",
       " {'id': 'usd-coin',\n",
       "  'rank': '4',\n",
       "  'symbol': 'USDC',\n",
       "  'name': 'USD Coin',\n",
       "  'supply': '55138865157.0357360000000000',\n",
       "  'maxSupply': None,\n",
       "  'marketCapUsd': '55117351650.6759680038055488',\n",
       "  'volumeUsd24Hr': '1845620255.6034473980000391',\n",
       "  'priceUsd': '0.9996098304472082',\n",
       "  'changePercent24Hr': '-0.2879429771402260',\n",
       "  'vwap24Hr': '1.0006711618483805',\n",
       "  'explorer': 'https://etherscan.io/token/0xa0b86991c6218b36c1d19d4a2e9eb0ce3606eb48'},\n",
       " {'id': 'binance-coin',\n",
       "  'rank': '5',\n",
       "  'symbol': 'BNB',\n",
       "  'name': 'BNB',\n",
       "  'supply': '166801148.0000000000000000',\n",
       "  'maxSupply': '166801148.0000000000000000',\n",
       "  'marketCapUsd': '40464142668.8569592842880192',\n",
       "  'volumeUsd24Hr': '275824012.9694314332589311',\n",
       "  'priceUsd': '242.5891137683114704',\n",
       "  'changePercent24Hr': '-5.2692667957456411',\n",
       "  'vwap24Hr': '246.5973993872673950',\n",
       "  'explorer': 'https://etherscan.io/token/0xB8c77482e45F1F44dE1745F52C74426C631bDD52'}]"
      ]
     },
     "execution_count": 5,
     "metadata": {},
     "output_type": "execute_result"
    }
   ],
   "source": [
    "data_dict['data'][:5]"
   ]
  },
  {
   "cell_type": "markdown",
   "id": "43cea7e3",
   "metadata": {},
   "source": [
    "### Here we got top 100 ranking crypo currencies"
   ]
  },
  {
   "cell_type": "code",
   "execution_count": 6,
   "id": "b4bbfab3",
   "metadata": {},
   "outputs": [
    {
     "data": {
      "text/plain": [
       "{'data': {'id': 'bitcoin',\n",
       "  'rank': '1',\n",
       "  'symbol': 'BTC',\n",
       "  'name': 'Bitcoin',\n",
       "  'supply': '19104037.0000000000000000',\n",
       "  'maxSupply': '21000000.0000000000000000',\n",
       "  'marketCapUsd': '398980993671.5910482552361269',\n",
       "  'volumeUsd24Hr': '14869054539.2276559056437834',\n",
       "  'priceUsd': '20884.6430558939478737',\n",
       "  'changePercent24Hr': '-4.7370579811051995',\n",
       "  'vwap24Hr': '21310.6409979644532342',\n",
       "  'explorer': 'https://blockchain.info/'},\n",
       " 'timestamp': 1658860661359}"
      ]
     },
     "execution_count": 6,
     "metadata": {},
     "output_type": "execute_result"
    }
   ],
   "source": [
    "response = requests.get('http://api.coincap.io/v2/assets/bitcoin')# filtering for bitcoin\n",
    "bitcoin=json.loads(response.text)\n",
    "bitcoin"
   ]
  },
  {
   "cell_type": "code",
   "execution_count": 7,
   "id": "c47f4b6e",
   "metadata": {},
   "outputs": [
    {
     "data": {
      "text/plain": [
       "[{'priceUsd': '37620.5765981598153171',\n",
       "  'time': 1627344000000,\n",
       "  'date': '2021-07-27T00:00:00.000Z'},\n",
       " {'priceUsd': '39759.4349271445550745',\n",
       "  'time': 1627430400000,\n",
       "  'date': '2021-07-28T00:00:00.000Z'},\n",
       " {'priceUsd': '39924.4963456891827014',\n",
       "  'time': 1627516800000,\n",
       "  'date': '2021-07-29T00:00:00.000Z'},\n",
       " {'priceUsd': '39600.9766508653328837',\n",
       "  'time': 1627603200000,\n",
       "  'date': '2021-07-30T00:00:00.000Z'},\n",
       " {'priceUsd': '41570.5037369325288176',\n",
       "  'time': 1627689600000,\n",
       "  'date': '2021-07-31T00:00:00.000Z'}]"
      ]
     },
     "execution_count": 7,
     "metadata": {},
     "output_type": "execute_result"
    }
   ],
   "source": [
    "response = requests.get('http://api.coincap.io/v2/assets/bitcoin/history?interval=d1')# d1= for days in a year\n",
    "bitcoin_history=json.loads(response.text)# h1= for hours\n",
    "bitcoin_history['data'][:5]"
   ]
  },
  {
   "cell_type": "code",
   "execution_count": 8,
   "id": "5f27f642",
   "metadata": {},
   "outputs": [
    {
     "data": {
      "text/plain": [
       "363"
      ]
     },
     "execution_count": 8,
     "metadata": {},
     "output_type": "execute_result"
    }
   ],
   "source": [
    "len(bitcoin_history['data'])"
   ]
  },
  {
   "cell_type": "code",
   "execution_count": 9,
   "id": "988c671b",
   "metadata": {},
   "outputs": [
    {
     "data": {
      "text/plain": [
       "[{'exchangeId': 'Zaif',\n",
       "  'baseId': 'comsa-xem',\n",
       "  'quoteId': 'bitcoin',\n",
       "  'baseSymbol': 'CMS',\n",
       "  'quoteSymbol': 'BTC',\n",
       "  'volumeUsd24Hr': None,\n",
       "  'priceUsd': '17965.1928761779438023',\n",
       "  'volumePercent': None},\n",
       " {'exchangeId': 'Zaif',\n",
       "  'baseId': 'counterparty',\n",
       "  'quoteId': 'bitcoin',\n",
       "  'baseSymbol': 'XCP',\n",
       "  'quoteSymbol': 'BTC',\n",
       "  'volumeUsd24Hr': None,\n",
       "  'priceUsd': '28839.5822889788464675',\n",
       "  'volumePercent': None},\n",
       " {'exchangeId': 'Zaif',\n",
       "  'baseId': 'comsa-eth',\n",
       "  'quoteId': 'bitcoin',\n",
       "  'baseSymbol': 'CMS',\n",
       "  'quoteSymbol': 'BTC',\n",
       "  'volumeUsd24Hr': None,\n",
       "  'priceUsd': '17623.7832028630854881',\n",
       "  'volumePercent': None},\n",
       " {'exchangeId': 'Zaif',\n",
       "  'baseId': 'bitcoin-cash',\n",
       "  'quoteId': 'bitcoin',\n",
       "  'baseSymbol': 'BCH',\n",
       "  'quoteSymbol': 'BTC',\n",
       "  'volumeUsd24Hr': None,\n",
       "  'priceUsd': '22678.9534794977396684',\n",
       "  'volumePercent': None},\n",
       " {'exchangeId': 'Zaif',\n",
       "  'baseId': 'nem',\n",
       "  'quoteId': 'bitcoin',\n",
       "  'baseSymbol': 'XEM',\n",
       "  'quoteSymbol': 'BTC',\n",
       "  'volumeUsd24Hr': None,\n",
       "  'priceUsd': '19703.3646950011598977',\n",
       "  'volumePercent': None}]"
      ]
     },
     "execution_count": 9,
     "metadata": {},
     "output_type": "execute_result"
    }
   ],
   "source": [
    "response = requests.get('http://api.coincap.io/v2/assets/bitcoin/markets')\n",
    "bitcoin_market=json.loads(response.text)\n",
    "bitcoin_market['data'][:5]"
   ]
  },
  {
   "cell_type": "markdown",
   "id": "24aaa7f5",
   "metadata": {},
   "source": [
    "### Currencies and their symbols with prices standardised in USD\n",
    "### type= fiat or crypto"
   ]
  },
  {
   "cell_type": "code",
   "execution_count": 10,
   "id": "802c3a63",
   "metadata": {},
   "outputs": [
    {
     "data": {
      "text/plain": [
       "[{'id': 'yemeni-rial',\n",
       "  'symbol': 'YER',\n",
       "  'currencySymbol': '﷼',\n",
       "  'type': 'fiat',\n",
       "  'rateUsd': '0.0039956478604375'},\n",
       " {'id': 'swedish-krona',\n",
       "  'symbol': 'SEK',\n",
       "  'currencySymbol': 'kr',\n",
       "  'type': 'fiat',\n",
       "  'rateUsd': '0.0968670296597158'},\n",
       " {'id': 'malaysian-ringgit',\n",
       "  'symbol': 'MYR',\n",
       "  'currencySymbol': 'RM',\n",
       "  'type': 'fiat',\n",
       "  'rateUsd': '0.2244165170556553'},\n",
       " {'id': 'swazi-lilangeni',\n",
       "  'symbol': 'SZL',\n",
       "  'currencySymbol': None,\n",
       "  'type': 'fiat',\n",
       "  'rateUsd': '0.0595778267533993'},\n",
       " {'id': 'australian-dollar',\n",
       "  'symbol': 'AUD',\n",
       "  'currencySymbol': '$',\n",
       "  'type': 'fiat',\n",
       "  'rateUsd': '0.6935336998427759'}]"
      ]
     },
     "execution_count": 10,
     "metadata": {},
     "output_type": "execute_result"
    }
   ],
   "source": [
    "response = requests.get('http://api.coincap.io/v2/rates')\n",
    "rates=json.loads(response.text)\n",
    "rates['data'][:5]"
   ]
  },
  {
   "cell_type": "code",
   "execution_count": 11,
   "id": "72d9bdca",
   "metadata": {},
   "outputs": [
    {
     "data": {
      "text/plain": [
       "{'data': {'id': 'bitcoin',\n",
       "  'symbol': 'BTC',\n",
       "  'currencySymbol': '₿',\n",
       "  'type': 'crypto',\n",
       "  'rateUsd': '20880.3363738817743063'},\n",
       " 'timestamp': 1658860664767}"
      ]
     },
     "execution_count": 11,
     "metadata": {},
     "output_type": "execute_result"
    }
   ],
   "source": [
    "response = requests.get('http://api.coincap.io/v2/rates/bitcoin')\n",
    "bitcoin_rates=json.loads(response.text)\n",
    "bitcoin_rates"
   ]
  },
  {
   "cell_type": "markdown",
   "id": "bb6439cf",
   "metadata": {},
   "source": [
    "### writing into dataframe"
   ]
  },
  {
   "cell_type": "code",
   "execution_count": 12,
   "id": "95a38326",
   "metadata": {},
   "outputs": [],
   "source": [
    "def crypto_names(dic):\n",
    "    l1=dic['data']\n",
    "    l2=[]\n",
    "    for x in l1:\n",
    "        y={}\n",
    "        y['id']=x['id']\n",
    "        y['rank']=x['rank']\n",
    "        y['symbol']=x['symbol']\n",
    "        y['name']=x['name']\n",
    "        y['priceUsd']=x['priceUsd']\n",
    "        y['link']=x['explorer']\n",
    "        l2.append(y)\n",
    "    return l2"
   ]
  },
  {
   "cell_type": "code",
   "execution_count": 13,
   "id": "27430d64",
   "metadata": {},
   "outputs": [
    {
     "data": {
      "text/plain": [
       "[{'id': 'bitcoin',\n",
       "  'rank': '1',\n",
       "  'symbol': 'BTC',\n",
       "  'name': 'Bitcoin',\n",
       "  'priceUsd': '20884.6430558939478737',\n",
       "  'link': 'https://blockchain.info/'},\n",
       " {'id': 'ethereum',\n",
       "  'rank': '2',\n",
       "  'symbol': 'ETH',\n",
       "  'name': 'Ethereum',\n",
       "  'priceUsd': '1374.8159109768271604',\n",
       "  'link': 'https://etherscan.io/'},\n",
       " {'id': 'tether',\n",
       "  'rank': '3',\n",
       "  'symbol': 'USDT',\n",
       "  'name': 'Tether',\n",
       "  'priceUsd': '1.0004889249456371',\n",
       "  'link': 'https://www.omniexplorer.info/asset/31'},\n",
       " {'id': 'usd-coin',\n",
       "  'rank': '4',\n",
       "  'symbol': 'USDC',\n",
       "  'name': 'USD Coin',\n",
       "  'priceUsd': '0.9996098304472082',\n",
       "  'link': 'https://etherscan.io/token/0xa0b86991c6218b36c1d19d4a2e9eb0ce3606eb48'},\n",
       " {'id': 'binance-coin',\n",
       "  'rank': '5',\n",
       "  'symbol': 'BNB',\n",
       "  'name': 'BNB',\n",
       "  'priceUsd': '242.5891137683114704',\n",
       "  'link': 'https://etherscan.io/token/0xB8c77482e45F1F44dE1745F52C74426C631bDD52'}]"
      ]
     },
     "execution_count": 13,
     "metadata": {},
     "output_type": "execute_result"
    }
   ],
   "source": [
    "l2=crypto_names(data_dict)\n",
    "l2[:5]"
   ]
  },
  {
   "cell_type": "code",
   "execution_count": 14,
   "id": "da2c4319",
   "metadata": {},
   "outputs": [],
   "source": [
    "import pandas as pd"
   ]
  },
  {
   "cell_type": "code",
   "execution_count": 15,
   "id": "25e758f6",
   "metadata": {},
   "outputs": [],
   "source": [
    "df_name=pd.DataFrame(l2)"
   ]
  },
  {
   "cell_type": "code",
   "execution_count": 16,
   "id": "8cd2893f",
   "metadata": {},
   "outputs": [
    {
     "data": {
      "text/html": [
       "<div>\n",
       "<style scoped>\n",
       "    .dataframe tbody tr th:only-of-type {\n",
       "        vertical-align: middle;\n",
       "    }\n",
       "\n",
       "    .dataframe tbody tr th {\n",
       "        vertical-align: top;\n",
       "    }\n",
       "\n",
       "    .dataframe thead th {\n",
       "        text-align: right;\n",
       "    }\n",
       "</style>\n",
       "<table border=\"1\" class=\"dataframe\">\n",
       "  <thead>\n",
       "    <tr style=\"text-align: right;\">\n",
       "      <th></th>\n",
       "      <th>id</th>\n",
       "      <th>rank</th>\n",
       "      <th>symbol</th>\n",
       "      <th>name</th>\n",
       "      <th>priceUsd</th>\n",
       "      <th>link</th>\n",
       "    </tr>\n",
       "  </thead>\n",
       "  <tbody>\n",
       "    <tr>\n",
       "      <th>0</th>\n",
       "      <td>bitcoin</td>\n",
       "      <td>1</td>\n",
       "      <td>BTC</td>\n",
       "      <td>Bitcoin</td>\n",
       "      <td>20884.6430558939478737</td>\n",
       "      <td>https://blockchain.info/</td>\n",
       "    </tr>\n",
       "    <tr>\n",
       "      <th>1</th>\n",
       "      <td>ethereum</td>\n",
       "      <td>2</td>\n",
       "      <td>ETH</td>\n",
       "      <td>Ethereum</td>\n",
       "      <td>1374.8159109768271604</td>\n",
       "      <td>https://etherscan.io/</td>\n",
       "    </tr>\n",
       "    <tr>\n",
       "      <th>2</th>\n",
       "      <td>tether</td>\n",
       "      <td>3</td>\n",
       "      <td>USDT</td>\n",
       "      <td>Tether</td>\n",
       "      <td>1.0004889249456371</td>\n",
       "      <td>https://www.omniexplorer.info/asset/31</td>\n",
       "    </tr>\n",
       "    <tr>\n",
       "      <th>3</th>\n",
       "      <td>usd-coin</td>\n",
       "      <td>4</td>\n",
       "      <td>USDC</td>\n",
       "      <td>USD Coin</td>\n",
       "      <td>0.9996098304472082</td>\n",
       "      <td>https://etherscan.io/token/0xa0b86991c6218b36c...</td>\n",
       "    </tr>\n",
       "    <tr>\n",
       "      <th>4</th>\n",
       "      <td>binance-coin</td>\n",
       "      <td>5</td>\n",
       "      <td>BNB</td>\n",
       "      <td>BNB</td>\n",
       "      <td>242.5891137683114704</td>\n",
       "      <td>https://etherscan.io/token/0xB8c77482e45F1F44d...</td>\n",
       "    </tr>\n",
       "    <tr>\n",
       "      <th>...</th>\n",
       "      <td>...</td>\n",
       "      <td>...</td>\n",
       "      <td>...</td>\n",
       "      <td>...</td>\n",
       "      <td>...</td>\n",
       "      <td>...</td>\n",
       "    </tr>\n",
       "    <tr>\n",
       "      <th>95</th>\n",
       "      <td>xinfin-network</td>\n",
       "      <td>96</td>\n",
       "      <td>XDC</td>\n",
       "      <td>XinFin Network</td>\n",
       "      <td>0.0269176744528808</td>\n",
       "      <td>https://etherscan.io/token/0x41ab1b6fcbb2fa9dc...</td>\n",
       "    </tr>\n",
       "    <tr>\n",
       "      <th>96</th>\n",
       "      <td>synthetix-network-token</td>\n",
       "      <td>97</td>\n",
       "      <td>SNX</td>\n",
       "      <td>Synthetix</td>\n",
       "      <td>2.8575244540526325</td>\n",
       "      <td>https://etherscan.io/token/0xc011a72400e58ecd9...</td>\n",
       "    </tr>\n",
       "    <tr>\n",
       "      <th>97</th>\n",
       "      <td>decred</td>\n",
       "      <td>98</td>\n",
       "      <td>DCR</td>\n",
       "      <td>Decred</td>\n",
       "      <td>22.9268826421599716</td>\n",
       "      <td>https://mainnet.decred.org/</td>\n",
       "    </tr>\n",
       "    <tr>\n",
       "      <th>98</th>\n",
       "      <td>gala</td>\n",
       "      <td>99</td>\n",
       "      <td>GALA</td>\n",
       "      <td>Gala</td>\n",
       "      <td>0.0459960651851123</td>\n",
       "      <td>https://ethplorer.io/es/address/0x15d4c048f83b...</td>\n",
       "    </tr>\n",
       "    <tr>\n",
       "      <th>99</th>\n",
       "      <td>gatetoken</td>\n",
       "      <td>100</td>\n",
       "      <td>GT</td>\n",
       "      <td>GateToken</td>\n",
       "      <td>3.9690266001661536</td>\n",
       "      <td>None</td>\n",
       "    </tr>\n",
       "  </tbody>\n",
       "</table>\n",
       "<p>100 rows × 6 columns</p>\n",
       "</div>"
      ],
      "text/plain": [
       "                         id rank symbol            name  \\\n",
       "0                   bitcoin    1    BTC         Bitcoin   \n",
       "1                  ethereum    2    ETH        Ethereum   \n",
       "2                    tether    3   USDT          Tether   \n",
       "3                  usd-coin    4   USDC        USD Coin   \n",
       "4              binance-coin    5    BNB             BNB   \n",
       "..                      ...  ...    ...             ...   \n",
       "95           xinfin-network   96    XDC  XinFin Network   \n",
       "96  synthetix-network-token   97    SNX       Synthetix   \n",
       "97                   decred   98    DCR          Decred   \n",
       "98                     gala   99   GALA            Gala   \n",
       "99                gatetoken  100     GT       GateToken   \n",
       "\n",
       "                  priceUsd                                               link  \n",
       "0   20884.6430558939478737                           https://blockchain.info/  \n",
       "1    1374.8159109768271604                              https://etherscan.io/  \n",
       "2       1.0004889249456371             https://www.omniexplorer.info/asset/31  \n",
       "3       0.9996098304472082  https://etherscan.io/token/0xa0b86991c6218b36c...  \n",
       "4     242.5891137683114704  https://etherscan.io/token/0xB8c77482e45F1F44d...  \n",
       "..                     ...                                                ...  \n",
       "95      0.0269176744528808  https://etherscan.io/token/0x41ab1b6fcbb2fa9dc...  \n",
       "96      2.8575244540526325  https://etherscan.io/token/0xc011a72400e58ecd9...  \n",
       "97     22.9268826421599716                        https://mainnet.decred.org/  \n",
       "98      0.0459960651851123  https://ethplorer.io/es/address/0x15d4c048f83b...  \n",
       "99      3.9690266001661536                                               None  \n",
       "\n",
       "[100 rows x 6 columns]"
      ]
     },
     "execution_count": 16,
     "metadata": {},
     "output_type": "execute_result"
    }
   ],
   "source": [
    "df_name"
   ]
  },
  {
   "cell_type": "code",
   "execution_count": 17,
   "id": "7524eb6d",
   "metadata": {},
   "outputs": [],
   "source": [
    "def crypto_history(dic):\n",
    "    l1=dic['data']\n",
    "    l2=[]\n",
    "    for x in l1:\n",
    "        y={}\n",
    "        y['priceUsd']=round(float(x['priceUsd']),4)\n",
    "        y['date']=x['date'].split('T')[0]\n",
    "        l2.append(y)\n",
    "    df=pd.DataFrame(l2)\n",
    "    df['date'] = pd.to_datetime(df['date'])\n",
    "    df.set_index('date',inplace=True)\n",
    "    return df"
   ]
  },
  {
   "cell_type": "code",
   "execution_count": 18,
   "id": "2f11bb08",
   "metadata": {},
   "outputs": [
    {
     "data": {
      "text/html": [
       "<div>\n",
       "<style scoped>\n",
       "    .dataframe tbody tr th:only-of-type {\n",
       "        vertical-align: middle;\n",
       "    }\n",
       "\n",
       "    .dataframe tbody tr th {\n",
       "        vertical-align: top;\n",
       "    }\n",
       "\n",
       "    .dataframe thead th {\n",
       "        text-align: right;\n",
       "    }\n",
       "</style>\n",
       "<table border=\"1\" class=\"dataframe\">\n",
       "  <thead>\n",
       "    <tr style=\"text-align: right;\">\n",
       "      <th></th>\n",
       "      <th>priceUsd</th>\n",
       "    </tr>\n",
       "    <tr>\n",
       "      <th>date</th>\n",
       "      <th></th>\n",
       "    </tr>\n",
       "  </thead>\n",
       "  <tbody>\n",
       "    <tr>\n",
       "      <th>2021-07-27</th>\n",
       "      <td>37620.5766</td>\n",
       "    </tr>\n",
       "    <tr>\n",
       "      <th>2021-07-28</th>\n",
       "      <td>39759.4349</td>\n",
       "    </tr>\n",
       "    <tr>\n",
       "      <th>2021-07-29</th>\n",
       "      <td>39924.4963</td>\n",
       "    </tr>\n",
       "    <tr>\n",
       "      <th>2021-07-30</th>\n",
       "      <td>39600.9767</td>\n",
       "    </tr>\n",
       "    <tr>\n",
       "      <th>2021-07-31</th>\n",
       "      <td>41570.5037</td>\n",
       "    </tr>\n",
       "    <tr>\n",
       "      <th>...</th>\n",
       "      <td>...</td>\n",
       "    </tr>\n",
       "    <tr>\n",
       "      <th>2022-07-21</th>\n",
       "      <td>22942.1646</td>\n",
       "    </tr>\n",
       "    <tr>\n",
       "      <th>2022-07-22</th>\n",
       "      <td>23148.7983</td>\n",
       "    </tr>\n",
       "    <tr>\n",
       "      <th>2022-07-23</th>\n",
       "      <td>22530.1322</td>\n",
       "    </tr>\n",
       "    <tr>\n",
       "      <th>2022-07-24</th>\n",
       "      <td>22656.4908</td>\n",
       "    </tr>\n",
       "    <tr>\n",
       "      <th>2022-07-25</th>\n",
       "      <td>21961.7981</td>\n",
       "    </tr>\n",
       "  </tbody>\n",
       "</table>\n",
       "<p>363 rows × 1 columns</p>\n",
       "</div>"
      ],
      "text/plain": [
       "              priceUsd\n",
       "date                  \n",
       "2021-07-27  37620.5766\n",
       "2021-07-28  39759.4349\n",
       "2021-07-29  39924.4963\n",
       "2021-07-30  39600.9767\n",
       "2021-07-31  41570.5037\n",
       "...                ...\n",
       "2022-07-21  22942.1646\n",
       "2022-07-22  23148.7983\n",
       "2022-07-23  22530.1322\n",
       "2022-07-24  22656.4908\n",
       "2022-07-25  21961.7981\n",
       "\n",
       "[363 rows x 1 columns]"
      ]
     },
     "execution_count": 18,
     "metadata": {},
     "output_type": "execute_result"
    }
   ],
   "source": [
    "df=crypto_history(bitcoin_history)\n",
    "df"
   ]
  },
  {
   "cell_type": "markdown",
   "id": "f897540e",
   "metadata": {},
   "source": [
    "### Bitcoin history"
   ]
  },
  {
   "cell_type": "code",
   "execution_count": 19,
   "id": "b03402db",
   "metadata": {},
   "outputs": [
    {
     "data": {
      "image/png": "[encoded data removed]",
      "text/plain": [
       "<Figure size 432x288 with 1 Axes>"
      ]
     },
     "metadata": {
      "needs_background": "light"
     },
     "output_type": "display_data"
    }
   ],
   "source": [
    "df.plot();"
   ]
  },
  {
   "cell_type": "code",
   "execution_count": 20,
   "id": "7990c566",
   "metadata": {},
   "outputs": [
    {
     "data": {
      "text/plain": [
       "[{'priceUsd': '2234.5859342313097223',\n",
       "  'time': 1627344000000,\n",
       "  'date': '2021-07-27T00:00:00.000Z'},\n",
       " {'priceUsd': '2296.3495923956924159',\n",
       "  'time': 1627430400000,\n",
       "  'date': '2021-07-28T00:00:00.000Z'},\n",
       " {'priceUsd': '2309.6440745024972979',\n",
       "  'time': 1627516800000,\n",
       "  'date': '2021-07-29T00:00:00.000Z'},\n",
       " {'priceUsd': '2380.4925427368571003',\n",
       "  'time': 1627603200000,\n",
       "  'date': '2021-07-30T00:00:00.000Z'},\n",
       " {'priceUsd': '2462.9225706942610918',\n",
       "  'time': 1627689600000,\n",
       "  'date': '2021-07-31T00:00:00.000Z'}]"
      ]
     },
     "execution_count": 20,
     "metadata": {},
     "output_type": "execute_result"
    }
   ],
   "source": [
    "response = requests.get('http://api.coincap.io/v2/assets/ethereum/history?interval=d1')# d1= for days in a year\n",
    "ethereum_history=json.loads(response.text)# h1= for hours\n",
    "ethereum_history['data'][:5]"
   ]
  },
  {
   "cell_type": "code",
   "execution_count": 21,
   "id": "9cea256e",
   "metadata": {},
   "outputs": [],
   "source": [
    "df3=crypto_history(ethereum_history)"
   ]
  },
  {
   "cell_type": "markdown",
   "id": "26e82b2a",
   "metadata": {},
   "source": [
    "### Ethereum history"
   ]
  },
  {
   "cell_type": "code",
   "execution_count": 22,
   "id": "a6fae769",
   "metadata": {},
   "outputs": [
    {
     "data": {
      "image/png": "[encoded data removed]",
      "text/plain": [
       "<Figure size 432x288 with 1 Axes>"
      ]
     },
     "metadata": {
      "needs_background": "light"
     },
     "output_type": "display_data"
    }
   ],
   "source": [
    "df3.plot();"
   ]
  },
  {
   "cell_type": "code",
   "execution_count": null,
   "id": "1995859b",
   "metadata": {},
   "outputs": [],
   "source": []
  }
 ],
 "metadata": {
  "kernelspec": {
   "display_name": "Python 3 (ipykernel)",
   "language": "python",
   "name": "python3"
  },
  "language_info": {
   "codemirror_mode": {
    "name": "ipython",
    "version": 3
   },
   "file_extension": ".py",
   "mimetype": "text/x-python",
   "name": "python",
   "nbconvert_exporter": "python",
   "pygments_lexer": "ipython3",
   "version": "3.9.7"
  }
 },
 "nbformat": 4,
 "nbformat_minor": 5
}
